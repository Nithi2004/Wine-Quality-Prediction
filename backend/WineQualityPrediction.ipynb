{
  "nbformat": 4,
  "nbformat_minor": 0,
  "metadata": {
    "colab": {
      "provenance": []
    },
    "kernelspec": {
      "name": "python3",
      "display_name": "Python 3"
    },
    "language_info": {
      "name": "python"
    }
  },
  "cells": [
    {
      "cell_type": "code",
      "execution_count": 2,
      "metadata": {
        "colab": {
          "base_uri": "https://localhost:8080/"
        },
        "id": "9j2uucw5Qpwq",
        "outputId": "a5905fdd-ce3b-4074-e06e-16f47d31cd51"
      },
      "outputs": [
        {
          "output_type": "stream",
          "name": "stdout",
          "text": [
            "Classification Report (Test Data):\n",
            "               precision    recall  f1-score   support\n",
            "\n",
            "           0       0.76      0.77      0.77       104\n",
            "           1       0.81      0.81      0.81       129\n",
            "\n",
            "    accuracy                           0.79       233\n",
            "   macro avg       0.79      0.79      0.79       233\n",
            "weighted avg       0.79      0.79      0.79       233\n",
            "\n",
            "Model saved as 'xgb_classifier.pkl'\n"
          ]
        }
      ],
      "source": [
        "# Import necessary libraries\n",
        "from pyspark.sql import SparkSession\n",
        "from pyspark.sql.functions import col, when\n",
        "from pyspark.ml.feature import VectorAssembler, MinMaxScaler\n",
        "import pandas as pd\n",
        "import xgboost as xgb\n",
        "import pickle\n",
        "\n",
        "# Initialize Spark Session\n",
        "spark = SparkSession.builder \\\n",
        "    .appName(\"WineQualityPrediction\") \\\n",
        "    .getOrCreate()\n",
        "\n",
        "# Load the dataset\n",
        "df = spark.read.csv(\"/content/winequality.csv\", header=True, inferSchema=True)\n",
        "\n",
        "# Data Cleaning\n",
        "df = df.fillna(0)  # Replace missing values with 0 (or use mean if needed)\n",
        "df = df.withColumn(\"best_quality\", when(col(\"quality\") > 5, 1).otherwise(0))\n",
        "df = df.drop(\"total sulfur dioxide\")  # Drop unnecessary column\n",
        "\n",
        "# Feature Assembly\n",
        "feature_columns = [col for col in df.columns if col not in (\"quality\", \"best_quality\")]\n",
        "assembler = VectorAssembler(inputCols=feature_columns, outputCol=\"features\")\n",
        "df = assembler.transform(df)\n",
        "\n",
        "# Scaling Features\n",
        "scaler = MinMaxScaler(inputCol=\"features\", outputCol=\"scaled_features\")\n",
        "scaler_model = scaler.fit(df)\n",
        "scaled_data = scaler_model.transform(df)\n",
        "\n",
        "# Select relevant columns\n",
        "scaled_data = scaled_data.select(col(\"scaled_features\").alias(\"features\"), col(\"best_quality\"))\n",
        "\n",
        "# Train-Test Split\n",
        "train_df, test_df = scaled_data.randomSplit([0.8, 0.2], seed=40)\n",
        "\n",
        "# Convert to Pandas for XGBoost compatibility\n",
        "train_pd = train_df.select(\"features\", \"best_quality\").toPandas()\n",
        "test_pd = test_df.select(\"features\", \"best_quality\").toPandas()\n",
        "\n",
        "# Prepare data for XGBoost\n",
        "X_train = pd.DataFrame(train_pd[\"features\"].tolist(), columns=feature_columns)\n",
        "y_train = train_pd[\"best_quality\"]\n",
        "\n",
        "X_test = pd.DataFrame(test_pd[\"features\"].tolist(), columns=feature_columns)\n",
        "y_test = test_pd[\"best_quality\"]\n",
        "\n",
        "# Train XGBoost Classifier\n",
        "xgb_model = xgb.XGBClassifier()\n",
        "xgb_model.fit(X_train, y_train)\n",
        "\n",
        "# Evaluate the Model\n",
        "from sklearn.metrics import classification_report, confusion_matrix\n",
        "\n",
        "train_pred = xgb_model.predict(X_train)\n",
        "test_pred = xgb_model.predict(X_test)\n",
        "\n",
        "print(\"Classification Report (Test Data):\\n\", classification_report(y_test, test_pred))\n",
        "\n",
        "# Save the model as a pickle file\n",
        "with open(\"xgb_classifier.pkl\", \"wb\") as file:\n",
        "    pickle.dump(xgb_model, file)\n",
        "\n",
        "print(\"Model saved as 'xgb_classifier.pkl'\")\n"
      ]
    }
  ]
}